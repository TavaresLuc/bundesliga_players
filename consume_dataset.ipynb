{
 "cells": [
  {
   "attachments": {},
   "cell_type": "markdown",
   "metadata": {},
   "source": [
    "Dataset: Jogadores da Liga Alemã de Futebol (Bundesliga)."
   ]
  },
  {
   "attachments": {},
   "cell_type": "markdown",
   "metadata": {},
   "source": [
    "Importando Bibliotecas"
   ]
  },
  {
   "cell_type": "code",
   "execution_count": 4,
   "metadata": {},
   "outputs": [],
   "source": [
    "import matplotlib.pyplot as plt\n",
    "import pandas as pd\n",
    "import numpy as np\n",
    "import textwrap"
   ]
  },
  {
   "attachments": {},
   "cell_type": "markdown",
   "metadata": {},
   "source": [
    "Importando dataset com Pandas"
   ]
  },
  {
   "cell_type": "code",
   "execution_count": 5,
   "metadata": {},
   "outputs": [],
   "source": [
    "dados = pd.read_csv(\"bundesliga_players.csv\");"
   ]
  },
  {
   "attachments": {},
   "cell_type": "markdown",
   "metadata": {},
   "source": [
    "Criação do gráfico de barras"
   ]
  },
  {
   "cell_type": "code",
   "execution_count": null,
   "metadata": {},
   "outputs": [],
   "source": [
    "# Quebrar linha em posições que tem mais de 1 palavra.\n",
    "rotulos_quebrados = [textwrap.fill(pos, 10) for pos in dados['position']]\n",
    "\n",
    "#Criação do gráfico\n",
    "\n",
    "plt.figure(figsize=(15,5))\n",
    "plt.bar(rotulos_quebrados, dados['price']);\n",
    "plt.ylabel('Valor em milhões de euros');\n",
    "plt.title('Posição')\n",
    "plt.show();"
   ]
  },
  {
   "attachments": {},
   "cell_type": "markdown",
   "metadata": {},
   "source": [
    "Gráfico de Setores"
   ]
  },
  {
   "cell_type": "code",
   "execution_count": null,
   "metadata": {},
   "outputs": [],
   "source": [
    "## Agrupando o número de dados pela coluna \"outfitter\" (marca) e contando quantos tem de cada;\n",
    "agrupado = dados['outfitter'].value_counts()\n",
    "\n",
    "## Somando porcentagem das categorias\n",
    "total = agrupado.sum()\n",
    "porcentagens = agrupado / total * 100\n",
    "\n",
    "## Identificando as categorias com porcentagens inferiores a 2%:\n",
    "categorias_outras = porcentagens[porcentagens < 2].index\n",
    "\n",
    "## Combinando as categorias menores que 2% em uma única categoria chamada \"outras\":\n",
    "agrupado.loc[categorias_outras] = porcentagens[categorias_outras].sum()\n",
    "agrupado = agrupado.drop(categorias_outras)\n",
    "agrupado['Outras'] = porcentagens[categorias_outras].sum()\n",
    "\n",
    "# Criando o gráfico Pie\n",
    "agrupado.plot.pie(autopct='%1.1f%%', fontsize=9)\n",
    "plt.axis('equal')\n",
    "plt.ylabel('Jogadores patrocinados por marcas esportivas', fontsize=9)\n",
    "plt.show();\n"
   ]
  }
 ],
 "metadata": {
  "kernelspec": {
   "display_name": "Python 3",
   "language": "python",
   "name": "python3"
  },
  "language_info": {
   "codemirror_mode": {
    "name": "ipython",
    "version": 3
   },
   "file_extension": ".py",
   "mimetype": "text/x-python",
   "name": "python",
   "nbconvert_exporter": "python",
   "pygments_lexer": "ipython3",
   "version": "3.10.7"
  },
  "orig_nbformat": 4
 },
 "nbformat": 4,
 "nbformat_minor": 2
}
